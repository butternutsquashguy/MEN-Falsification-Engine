{
  "cells": [
    {
      "cell_type": "markdown",
      "metadata": {},
      "source": [
        "# \ud83e\uddea Updated MEN Engine Launcher (With Summary Stats)\n",
        "This notebook:\n",
        "1. Installs dependencies\n",
        "2. Downloads all `.py` modules\n",
        "3. Executes the pipeline including `summary_stats.csv` generation"
      ]
    },
    {
      "cell_type": "code",
      "metadata": {},
      "execution_count": null,
      "outputs": [],
      "source": [
        "!pip install matplotlib pandas numpy scikit-learn seaborn healpy bilby pycbc"
      ]
    },
    {
      "cell_type": "code",
      "metadata": {},
      "execution_count": null,
      "outputs": [],
      "source": [
        "# Download all .py modules from GitHub\n",
        "base_url = \"https://raw.githubusercontent.com/butternutsquashguy/MEN-Falsification-Engine/main\"\n",
        "files = [\n",
        "  \"MEN_Falsification_Engine.py\",",
        "  \"summary_stats_generator.py\",",
        "  \"template_generator.py\",",
        "  \"inject_echo.py\",",
        "  \"echo_detector_pycbc.py\",",
        "  \"echo_detector_bilby.py\",",
        "  \"echo_detector_comb.py\",",
        "  \"load_cmb.py\",",
        "  \"ring_detector.py\",",
        "  \"ring_classifier_ml.py\",",
        "  \"crossmatch.py\",",
        "  \"null_model.py\",",
        "  \"chirplet_transform_overlay.py\",",
        "  \"pca_clustering_visualizer.py\",",
        "  \"correlation_heatmap_generator.py\",",
        "  \"composite_summary_generator.py\",",
        "  \"simulate_cmb_men.py\",",
        "]\n",
        "for f in files:\n",
        "    !wget -q {base_url}/{f}"
      ]
    },
    {
      "cell_type": "code",
      "metadata": {},
      "execution_count": null,
      "outputs": [],
      "source": [
        "# Run the engine\n",
        "exec(open(\"MEN_Falsification_Engine.py\").read())"
      ]
    },
    {
      "cell_type": "markdown",
      "metadata": {},
      "source": [
        "### \ud83d\udcca Preview: summary_stats.csv"
      ]
    },
    {
      "cell_type": "code",
      "metadata": {},
      "execution_count": null,
      "outputs": [],
      "source": [
        "import pandas as pd\n",
        "pd.read_csv(\"outputs/summary_stats.csv\").head()"
      ]
    }
  ],
  "metadata": {
    "kernelspec": {
      "display_name": "Python 3",
      "language": "python",
      "name": "python3"
    },
    "language_info": {
      "name": "python",
      "version": "3.10"
    }
  },
  "nbformat": 4,
  "nbformat_minor": 2
}