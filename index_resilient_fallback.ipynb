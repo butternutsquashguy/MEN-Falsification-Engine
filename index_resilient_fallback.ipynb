{
  "cells": [
    {
      "cell_type": "markdown",
      "metadata": {},
      "source": [
        "# \ud83d\udee0\ufe0f MEN Falsification Engine \u2013 Resilient Fallback Launcher\n",
        "This notebook guarantees execution by manually downloading the Python engine script."
      ]
    },
    {
      "cell_type": "code",
      "metadata": {},
      "execution_count": null,
      "outputs": [],
      "source": [
        "# \ud83d\udce6 Install required packages\n",
        "!pip install matplotlib pandas numpy scikit-learn seaborn healpy bilby pycbc"
      ]
    },
    {
      "cell_type": "code",
      "metadata": {},
      "execution_count": null,
      "outputs": [],
      "source": [
        "# \ud83d\udce5 Download main engine file from GitHub (raw URL)\n",
        "!wget https://raw.githubusercontent.com/butternutsquashguy/MEN-Falsification-Engine/main/MEN_Falsification_Engine.py"
      ]
    },
    {
      "cell_type": "code",
      "metadata": {},
      "execution_count": null,
      "outputs": [],
      "source": [
        "# \ud83d\ude80 Execute the full engine\n",
        "exec(open(\"MEN_Falsification_Engine.py\").read())"
      ]
    },
    {
      "cell_type": "markdown",
      "metadata": {},
      "source": [
        "### \ud83d\udcca Preview Output Table"
      ]
    },
    {
      "cell_type": "code",
      "metadata": {},
      "execution_count": null,
      "outputs": [],
      "source": [
        "import pandas as pd\n",
        "pd.read_csv(\"outputs/gw_cmb_crossmatch.csv\").head()"
      ]
    }
  ],
  "metadata": {
    "kernelspec": {
      "display_name": "Python 3",
      "language": "python",
      "name": "python3"
    },
    "language_info": {
      "name": "python",
      "version": "3.10"
    }
  },
  "nbformat": 4,
  "nbformat_minor": 2
}