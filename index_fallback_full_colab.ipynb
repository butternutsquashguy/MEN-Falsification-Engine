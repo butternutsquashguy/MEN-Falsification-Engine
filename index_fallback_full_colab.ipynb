{
  "cells": [
    {
      "cell_type": "markdown",
      "metadata": {},
      "source": [
        "# \ud83d\udee0\ufe0f MEN Falsification Engine \u2013 Full Resilient Colab Launcher\n",
        "This notebook:\n",
        "1. Installs all required dependencies\n",
        "2. Downloads every required `.py` file from GitHub\n",
        "3. Executes the full engine sequentially"
      ]
    },
    {
      "cell_type": "code",
      "metadata": {},
      "execution_count": null,
      "outputs": [],
      "source": [
        "# \u2705 Install all dependencies\n",
        "!pip install matplotlib pandas numpy scikit-learn seaborn healpy bilby pycbc"
      ]
    },
    {
      "cell_type": "code",
      "metadata": {},
      "execution_count": null,
      "outputs": [],
      "source": [
        "# \ud83d\udce5 Download all required .py modules\n",
        "!wget -q https://raw.githubusercontent.com/butternutsquashguy/MEN-Falsification-Engine/main/MEN_Falsification_Engine.py\n!wget -q https://raw.githubusercontent.com/butternutsquashguy/MEN-Falsification-Engine/main/template_generator.py\n!wget -q https://raw.githubusercontent.com/butternutsquashguy/MEN-Falsification-Engine/main/inject_echo.py\n!wget -q https://raw.githubusercontent.com/butternutsquashguy/MEN-Falsification-Engine/main/echo_detector_pycbc.py\n!wget -q https://raw.githubusercontent.com/butternutsquashguy/MEN-Falsification-Engine/main/echo_detector_bilby.py\n!wget -q https://raw.githubusercontent.com/butternutsquashguy/MEN-Falsification-Engine/main/echo_detector_comb.py\n!wget -q https://raw.githubusercontent.com/butternutsquashguy/MEN-Falsification-Engine/main/load_cmb.py\n!wget -q https://raw.githubusercontent.com/butternutsquashguy/MEN-Falsification-Engine/main/ring_detector.py\n!wget -q https://raw.githubusercontent.com/butternutsquashguy/MEN-Falsification-Engine/main/ring_classifier_ml.py\n!wget -q https://raw.githubusercontent.com/butternutsquashguy/MEN-Falsification-Engine/main/crossmatch.py\n!wget -q https://raw.githubusercontent.com/butternutsquashguy/MEN-Falsification-Engine/main/null_model.py\n!wget -q https://raw.githubusercontent.com/butternutsquashguy/MEN-Falsification-Engine/main/chirplet_transform_overlay.py\n!wget -q https://raw.githubusercontent.com/butternutsquashguy/MEN-Falsification-Engine/main/pca_clustering_visualizer.py\n!wget -q https://raw.githubusercontent.com/butternutsquashguy/MEN-Falsification-Engine/main/correlation_heatmap_generator.py\n!wget -q https://raw.githubusercontent.com/butternutsquashguy/MEN-Falsification-Engine/main/composite_summary_generator.py\n!wget -q https://raw.githubusercontent.com/butternutsquashguy/MEN-Falsification-Engine/main/simulate_cmb_men.py"
      ]
    },
    {
      "cell_type": "code",
      "metadata": {},
      "execution_count": null,
      "outputs": [],
      "source": [
        "# \ud83d\ude80 Execute the pipeline\n",
        "exec(open(\"MEN_Falsification_Engine.py\").read())"
      ]
    },
    {
      "cell_type": "markdown",
      "metadata": {},
      "source": [
        "### \ud83d\udcca Preview Output Table"
      ]
    },
    {
      "cell_type": "code",
      "metadata": {},
      "execution_count": null,
      "outputs": [],
      "source": [
        "import pandas as pd\n",
        "pd.read_csv(\"outputs/gw_cmb_crossmatch.csv\").head()"
      ]
    }
  ],
  "metadata": {
    "kernelspec": {
      "display_name": "Python 3",
      "language": "python",
      "name": "python3"
    },
    "language_info": {
      "name": "python",
      "version": "3.10"
    }
  },
  "nbformat": 4,
  "nbformat_minor": 2
}