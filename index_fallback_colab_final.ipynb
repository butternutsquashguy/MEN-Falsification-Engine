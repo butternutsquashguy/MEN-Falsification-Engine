{
  "cells": [
    {
      "cell_type": "markdown",
      "metadata": {},
      "source": [
        "# \u2705 Final MEN Falsification Engine Launcher\n",
        "This notebook:\n",
        "- Installs dependencies\n",
        "- Downloads **all modules** from GitHub (patched versions)\n",
        "- Runs the pipeline including summary statistics\n",
        "- Displays preview of `summary_stats.csv`"
      ]
    },
    {
      "cell_type": "code",
      "metadata": {},
      "execution_count": null,
      "outputs": [],
      "source": [
        "# \ud83d\udee0\ufe0f Install all required packages\n",
        "!pip install matplotlib pandas numpy scikit-learn seaborn healpy bilby pycbc"
      ]
    },
    {
      "cell_type": "code",
      "metadata": {},
      "execution_count": null,
      "outputs": [],
      "source": [
        "# \ud83d\udce5 Download all patched Python modules from GitHub\n",
        "base_url = \"https://raw.githubusercontent.com/butternutsquashguy/MEN-Falsification-Engine/main\"\n",
        "files = [\n",
        "    \"MEN_Falsification_Engine.py\",\n",
        "    \"template_generator.py\",\n",
        "    \"inject_echo.py\",\n",
        "    \"echo_detector_pycbc.py\",\n",
        "    \"echo_detector_bilby.py\",\n",
        "    \"echo_detector_comb.py\",\n",
        "    \"load_cmb.py\",\n",
        "    \"ring_detector.py\",\n",
        "    \"ring_classifier_ml.py\",\n",
        "    \"crossmatch.py\",\n",
        "    \"null_model.py\",\n",
        "    \"chirplet_transform_overlay.py\",\n",
        "    \"summary_stats_generator.py\",\n",
        "    \"pca_clustering_visualizer.py\",\n",
        "    \"correlation_heatmap_generator.py\",\n",
        "    \"composite_summary_generator.py\",\n",
        "    \"simulate_cmb_men.py\"\n",
        "]\n",
        "for f in files:\n",
        "    !wget -q {base_url}/{f}"
      ]
    },
    {
      "cell_type": "code",
      "metadata": {},
      "execution_count": null,
      "outputs": [],
      "source": [
        "# \ud83d\ude80 Run the full pipeline\n",
        "exec(open(\"MEN_Falsification_Engine.py\").read())"
      ]
    },
    {
      "cell_type": "markdown",
      "metadata": {},
      "source": [
        "### \ud83d\udcca Preview Summary Output"
      ]
    },
    {
      "cell_type": "code",
      "metadata": {},
      "execution_count": null,
      "outputs": [],
      "source": [
        "import pandas as pd\n",
        "pd.read_csv(\"outputs/summary_stats.csv\").head()"
      ]
    }
  ],
  "metadata": {
    "kernelspec": {
      "display_name": "Python 3",
      "language": "python",
      "name": "python3"
    },
    "language_info": {
      "name": "python",
      "version": "3.10"
    }
  },
  "nbformat": 4,
  "nbformat_minor": 2
}