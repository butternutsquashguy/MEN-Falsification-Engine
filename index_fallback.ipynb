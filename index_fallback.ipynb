{
  "cells": [
    {
      "cell_type": "markdown",
      "metadata": {},
      "source": [
        "# \u2699\ufe0f MEN Falsification Engine \u2013 Fallback Launcher\n",
        "This notebook runs the entire pipeline using Python's `exec(open(...).read())` fallback method.\n",
        "This avoids import errors in Colab environments where module recognition may fail."
      ]
    },
    {
      "cell_type": "code",
      "metadata": {},
      "execution_count": null,
      "outputs": [],
      "source": [
        "!pip install matplotlib pandas numpy scikit-learn seaborn healpy bilby pycbc"
      ]
    },
    {
      "cell_type": "code",
      "metadata": {},
      "execution_count": null,
      "outputs": [],
      "source": [
        "# \ud83d\ude80 Run entire engine from file directly\n",
        "exec(open(\"MEN_Falsification_Engine.py\").read())"
      ]
    },
    {
      "cell_type": "markdown",
      "metadata": {},
      "source": [
        "### \ud83d\udcca Preview Output"
      ]
    },
    {
      "cell_type": "code",
      "metadata": {},
      "execution_count": null,
      "outputs": [],
      "source": [
        "import pandas as pd\n",
        "pd.read_csv(\"outputs/gw_cmb_crossmatch.csv\").head()"
      ]
    }
  ],
  "metadata": {
    "kernelspec": {
      "display_name": "Python 3",
      "language": "python",
      "name": "python3"
    },
    "language_info": {
      "name": "python",
      "version": "3.10"
    }
  },
  "nbformat": 4,
  "nbformat_minor": 2
}